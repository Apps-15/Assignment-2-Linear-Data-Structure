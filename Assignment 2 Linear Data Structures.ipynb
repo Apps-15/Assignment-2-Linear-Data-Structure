{
 "cells": [
  {
   "cell_type": "code",
   "execution_count": 12,
   "metadata": {},
   "outputs": [],
   "source": [
    "class ListNode:\n",
    "    def __init__(self, value):\n",
    "        self.value = value\n",
    "        self.next = None\n",
    "\n",
    "def delete_zero_sum_sublists(head):\n",
    "    prefix_sum = 0\n",
    "    prefix_sum_map = {}\n",
    "    dummy = ListNode(0)\n",
    "    dummy.next = head\n",
    "    current = dummy\n",
    "\n",
    "    while current:\n",
    "        prefix_sum += current.value\n",
    "\n",
    "        if prefix_sum in prefix_sum_map:\n",
    "            prev = prefix_sum_map[prefix_sum].next\n",
    "            temp = prev.next\n",
    "            while temp != current:\n",
    "                del prefix_sum_map[prefix_sum]\n",
    "                prev = prev.next\n",
    "                temp = temp.next\n",
    "            prev.next = current.next\n",
    "\n",
    "        prefix_sum_map[prefix_sum] = current\n",
    "        current = current.next\n",
    "\n",
    "    return dummy.next\n"
   ]
  },
  {
   "cell_type": "code",
   "execution_count": 13,
   "metadata": {},
   "outputs": [],
   "source": [
    "def reverse_in_groups(head, k):\n",
    "    prev = None\n",
    "    current = head\n",
    "    next_node = None\n",
    "    count = 0\n",
    "\n",
    "    # Count the number of nodes in the current group\n",
    "    temp = head\n",
    "    while temp and count < k:\n",
    "        temp = temp.next\n",
    "        count += 1\n",
    "\n",
    "    if count < k:\n",
    "        return head  # If there are fewer than k nodes left, no reversal is needed.\n",
    "\n",
    "    # Reverse the current group of k nodes\n",
    "    while current and count > 0:\n",
    "        next_node = current.next\n",
    "        current.next = prev\n",
    "        prev = current\n",
    "        current = next_node\n",
    "        count -= 1\n",
    "\n",
    "    # Recursively reverse the next group\n",
    "    if next_node:\n",
    "        head.next = reverse_in_groups(next_node, k)\n",
    "\n",
    "    return prev  # New head of the reversed group\n"
   ]
  },
  {
   "cell_type": "code",
   "execution_count": 14,
   "metadata": {},
   "outputs": [],
   "source": [
    "class ListNode:\n",
    "    def __init__(self, value):\n",
    "        self.value = value\n",
    "        self.next = None\n",
    "\n",
    "def merge_alternate(head1, head2):\n",
    "    current1, current2 = head1, head2\n",
    "\n",
    "    while current1 and current2:\n",
    "        temp1, temp2 = current1.next, current2.next\n",
    "        current1.next = current2\n",
    "        current2.next = temp1\n",
    "\n",
    "        current1 = temp1\n",
    "        current2 = temp2\n",
    "\n",
    "    return head1\n"
   ]
  },
  {
   "cell_type": "code",
   "execution_count": 15,
   "metadata": {},
   "outputs": [],
   "source": [
    "def count_pairs_with_sum(arr, target_sum):\n",
    "    count = 0\n",
    "    seen = set()\n",
    "\n",
    "    for num in arr:\n",
    "        complement = target_sum - num\n",
    "        if complement in seen:\n",
    "            count += 1\n",
    "        seen.add(num)\n",
    "\n",
    "    return count\n"
   ]
  },
  {
   "cell_type": "code",
   "execution_count": 16,
   "metadata": {},
   "outputs": [],
   "source": [
    "def find_duplicates(arr):\n",
    "    seen = set()\n",
    "    duplicates = []\n",
    "\n",
    "    for num in arr:\n",
    "        if num in seen:\n",
    "            duplicates.append(num)\n",
    "        seen.add(num)\n",
    "\n",
    "    return duplicates\n"
   ]
  },
  {
   "cell_type": "code",
   "execution_count": 17,
   "metadata": {},
   "outputs": [],
   "source": [
    "def kth_largest_smallest(arr, k):\n",
    "    sorted_arr = sorted(arr)\n",
    "    kth_largest = sorted_arr[-k]\n",
    "    kth_smallest = sorted_arr[k - 1]\n",
    "    return kth_largest, kth_smallest\n"
   ]
  },
  {
   "cell_type": "code",
   "execution_count": 18,
   "metadata": {},
   "outputs": [],
   "source": [
    "def move_negatives(arr):\n",
    "    n = len(arr)\n",
    "    left, right = 0, n - 1\n",
    "\n",
    "    while left <= right:\n",
    "        if arr[left] < 0 and arr[right] < 0:\n",
    "            left += 1\n",
    "        elif arr[left] > 0 and arr[right] < 0:\n",
    "            arr[left], arr[right] = arr[right], arr[left]\n",
    "            left += 1\n",
    "            right -= 1\n",
    "        elif arr[left] > 0 and arr[right] > 0:\n",
    "            right -= 1\n",
    "        else:\n",
    "            left += 1\n",
    "            right -= 1\n"
   ]
  },
  {
   "cell_type": "code",
   "execution_count": 19,
   "metadata": {},
   "outputs": [],
   "source": [
    "def reverse_string(input_string):\n",
    "    stack = []\n",
    "    for char in input_string:\n",
    "        stack.append(char)\n",
    "    reversed_string = \"\"\n",
    "    while stack:\n",
    "        reversed_string += stack.pop()\n",
    "    return reversed_string\n"
   ]
  },
  {
   "cell_type": "code",
   "execution_count": 20,
   "metadata": {},
   "outputs": [],
   "source": [
    "def evaluate_postfix(expression):\n",
    "    stack = []\n",
    "    operators = {'+', '-', '*', '/'}\n",
    "\n",
    "    for token in expression:\n",
    "        if token not in operators:\n",
    "            stack.append(int(token))\n",
    "        else:\n",
    "            operand2 = stack.pop()\n",
    "            operand1 = stack.pop()\n",
    "            if token == '+':\n",
    "                stack.append(operand1 + operand2)\n",
    "            elif token == '-':\n",
    "                stack.append(operand1 - operand2)\n",
    "            elif token == '*':\n",
    "                stack.append(operand1 * operand2)\n",
    "            elif token == '/':\n",
    "                stack.append(operand1 // operand2)\n",
    "\n",
    "    return stack.pop()"
   ]
  },
  {
   "cell_type": "code",
   "execution_count": 21,
   "metadata": {},
   "outputs": [],
   "source": [
    "class QueueUsingStacks:\n",
    "    def __init__(self):\n",
    "        self.stack1 = []\n",
    "        self.stack2 = []\n",
    "\n",
    "    def enqueue(self, value):\n",
    "        self.stack1.append(value)\n",
    "\n",
    "    def dequeue(self):\n",
    "        if not self.stack2:\n",
    "            if not self.stack1:\n",
    "                return None  # Queue is empty\n",
    "            while self.stack1:\n",
    "                self.stack2.append(self.stack1.pop())\n",
    "        return self.stack2.pop()\n"
   ]
  }
 ],
 "metadata": {
  "kernelspec": {
   "display_name": "Python 3",
   "language": "python",
   "name": "python3"
  },
  "language_info": {
   "codemirror_mode": {
    "name": "ipython",
    "version": 3
   },
   "file_extension": ".py",
   "mimetype": "text/x-python",
   "name": "python",
   "nbconvert_exporter": "python",
   "pygments_lexer": "ipython3",
   "version": "3.11.4"
  },
  "orig_nbformat": 4
 },
 "nbformat": 4,
 "nbformat_minor": 2
}
